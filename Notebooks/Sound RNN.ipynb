{
 "cells": [
  {
   "cell_type": "code",
   "execution_count": 1,
   "metadata": {
    "collapsed": false
   },
   "outputs": [
    {
     "name": "stderr",
     "output_type": "stream",
     "text": [
      "Using Theano backend.\n"
     ]
    }
   ],
   "source": [
    "import glob, re\n",
    "import soundfile as sf\n",
    "from sklearn.model_selection import train_test_split\n",
    "from keras.models import Sequential, Model\n",
    "from keras.layers.recurrent import LSTM, SimpleRNN\n",
    "from keras.layers.core import Dense\n",
    "from keras.preprocessing import sequence\n",
    "import numpy as np"
   ]
  },
  {
   "cell_type": "code",
   "execution_count": 2,
   "metadata": {
    "collapsed": true
   },
   "outputs": [],
   "source": [
    "d = {\"Excuse\":0, \"Goodby\": 1, \"Hello\": 2, \"How\": 3, \"Left\": 4, \"Nice\": 5, \"Right\": 6, \"Seeyou\": 7, \"Sorry\": 8, \"Thank\": 9, \"Thanks\":9, \"Time\" : 10, \"Welcome\": 11 }\n",
    "\n",
    "pattern = re.compile(\".*/([A-z]*).*\")\n",
    "\n",
    "X = []\n",
    "y = []\n"
   ]
  },
  {
   "cell_type": "code",
   "execution_count": 3,
   "metadata": {
    "collapsed": false
   },
   "outputs": [],
   "source": [
    "for audio in glob.glob(\"videos/*/*/*.flac\"):\n",
    "    data, _ = sf.read(audio)\n",
    "    data = np.asarray(data).flatten()\n",
    "    X.append(data)\n",
    "    cl = pattern.match(audio).groups()[0]\n",
    "    y.append(d[cl])"
   ]
  },
  {
   "cell_type": "code",
   "execution_count": null,
   "metadata": {
    "collapsed": true
   },
   "outputs": [],
   "source": [
    "indices = range(len(X))\n",
    "X_train, X_test, y_train, y_test, indices_train, indices_test = train_test_split(X, y, indices, test_size=0.15, random_state=37)\n",
    "\n",
    "X_train = np.asarray(X_train)\n",
    "X_test = np.asarray(X_test)\n",
    "\n",
    "model = Sequential()\n",
    "model.add(SimpleRNN(32, input_shape=(1029, 3333120)))\n",
    "model.add(Dense(12, activation='softmax'))\n",
    "model.compile(loss='categorical_crossentropy', optimizer='adam', metrics=['accuracy'])"
   ]
  },
  {
   "cell_type": "code",
   "execution_count": null,
   "metadata": {
    "collapsed": false
   },
   "outputs": [],
   "source": [
    "X_train = sequence.pad_sequences(X_train, padding='post')\n",
    "X_test = sequence.pad_sequences(X_test, padding='post')"
   ]
  },
  {
   "cell_type": "code",
   "execution_count": null,
   "metadata": {
    "collapsed": true
   },
   "outputs": [],
   "source": [
    "model.fit(X_train, y_train, nb_epoch=10, batch_size=20, verbose=1)"
   ]
  },
  {
   "cell_type": "code",
   "execution_count": null,
   "metadata": {
    "collapsed": true
   },
   "outputs": [],
   "source": []
  }
 ],
 "metadata": {
  "anaconda-cloud": {},
  "kernelspec": {
   "display_name": "Python [default]",
   "language": "python",
   "name": "python3"
  },
  "language_info": {
   "codemirror_mode": {
    "name": "ipython",
    "version": 3
   },
   "file_extension": ".py",
   "mimetype": "text/x-python",
   "name": "python",
   "nbconvert_exporter": "python",
   "pygments_lexer": "ipython3",
   "version": "3.5.2"
  }
 },
 "nbformat": 4,
 "nbformat_minor": 1
}
