{
 "cells": [
  {
   "cell_type": "code",
   "execution_count": 2,
   "metadata": {
    "collapsed": false
   },
   "outputs": [
    {
     "name": "stderr",
     "output_type": "stream",
     "text": [
      "Using Theano backend.\n"
     ]
    }
   ],
   "source": [
    "import glob\n",
    "import numpy as np\n",
    "from keras.utils import np_utils\n",
    "import matplotlib.pyplot as plt\n",
    "import matplotlib.image as mpimg\n",
    "from sklearn.model_selection import train_test_split\n",
    "from keras.models import Sequential, Model\n",
    "from keras.layers.core import Dense\n",
    "from keras.layers.recurrent import LSTM, SimpleRNN\n",
    "from keras.layers import Input\n",
    "from keras.layers.convolutional import Convolution2D\n",
    "import pandas"
   ]
  },
  {
   "cell_type": "code",
   "execution_count": 3,
   "metadata": {
    "collapsed": true
   },
   "outputs": [],
   "source": [
    "def rgb2gray(rgb):\n",
    "    return np.dot(rgb[...,:3], [0.299, 0.587, 0.114])\n"
   ]
  },
  {
   "cell_type": "code",
   "execution_count": 4,
   "metadata": {
    "collapsed": true
   },
   "outputs": [],
   "source": [
    "X = []\n",
    "y = []\n",
    "\n",
    "d = {\"Excuse\":0, \"Goodby\": 1, \"Hello\": 2, \"How\": 3, \"Left\": 4, \"Nice\": 5, \"Right\": 6, \"Seeyou\": 7, \"Sorry\": 8, \"Thank\": 9, \"Time\" : 10, \"Welcome\": 11 }"
   ]
  },
  {
   "cell_type": "code",
   "execution_count": null,
   "metadata": {
    "collapsed": false
   },
   "outputs": [
    {
     "name": "stdout",
     "output_type": "stream",
     "text": [
      "videos/P001/Excuse1\n",
      "videos/P001/Excuse2\n",
      "videos/P001/Excuse3\n",
      "videos/P001/Excuse4\n",
      "videos/P001/Excuse5\n",
      "videos/P001/Goodby1\n",
      "videos/P001/Goodby2\n",
      "videos/P001/Goodby3\n",
      "videos/P001/Goodby4\n",
      "videos/P001/Goodby5\n",
      "videos/P001/Hello1\n",
      "videos/P001/Hello2\n",
      "videos/P001/Hello3\n",
      "videos/P001/Hello4\n",
      "videos/P001/Hello5\n",
      "videos/P001/How1\n",
      "videos/P001/How2\n",
      "videos/P001/How3\n",
      "videos/P001/How4\n",
      "videos/P001/How5\n",
      "videos/P001/Left1\n",
      "videos/P001/Left2\n",
      "videos/P001/Left3\n",
      "videos/P001/Left4\n",
      "videos/P001/Left5\n",
      "videos/P001/Nice1\n",
      "videos/P001/Nice2\n",
      "videos/P001/Nice3\n",
      "videos/P001/Nice4\n",
      "videos/P001/Nice5\n",
      "videos/P001/Right1\n",
      "videos/P001/Right2\n",
      "videos/P001/Right3\n",
      "videos/P001/Right4\n",
      "videos/P001/Right5\n",
      "videos/P001/Seeyou1\n",
      "videos/P001/Seeyou2\n",
      "videos/P001/Seeyou3\n",
      "videos/P001/Seeyou4\n",
      "videos/P001/Seeyou5\n",
      "videos/P001/Sorry1\n",
      "videos/P001/Sorry2\n",
      "videos/P001/Sorry3\n",
      "videos/P001/Sorry4\n",
      "videos/P001/Sorry5\n",
      "videos/P001/Thank1\n",
      "videos/P001/Thank2\n",
      "videos/P001/Thank3\n",
      "videos/P001/Thank4\n",
      "videos/P001/Thank5\n",
      "videos/P001/Time1\n",
      "videos/P001/Time2\n",
      "videos/P001/Time3\n",
      "videos/P001/Time4\n",
      "videos/P001/Time5\n",
      "videos/P001/Welcome1\n",
      "videos/P001/Welcome2\n",
      "videos/P001/Welcome3\n",
      "videos/P001/Welcome4\n",
      "videos/P001/Welcome5\n",
      "videos/P002/Dazhuo.avi\n",
      "videos/P002/Excuse1\n",
      "videos/P002/Excuse2\n",
      "videos/P002/Excuse3\n",
      "videos/P002/Excuse4\n",
      "videos/P002/Excuse5\n",
      "videos/P002/Goodby1\n",
      "videos/P002/Goodby2\n",
      "videos/P002/Goodby3\n",
      "videos/P002/Goodby4\n",
      "videos/P002/Goodby5\n",
      "videos/P002/Hello1\n",
      "videos/P002/Hello2\n",
      "videos/P002/Hello3\n",
      "videos/P002/Hello4\n",
      "videos/P002/Hello5\n",
      "videos/P002/How1\n",
      "videos/P002/How2\n",
      "videos/P002/How3\n",
      "videos/P002/How4\n",
      "videos/P002/How5\n",
      "videos/P002/Left1\n",
      "videos/P002/Left2\n",
      "videos/P002/Left3\n",
      "videos/P002/Left4\n",
      "videos/P002/Left5\n",
      "videos/P002/Nice1\n",
      "videos/P002/Nice2\n",
      "videos/P002/Nice3\n",
      "videos/P002/Nice4\n",
      "videos/P002/Nice5\n",
      "videos/P002/Right1\n"
     ]
    }
   ],
   "source": [
    "for folder in glob.glob(\"videos/P00*/*\"):\n",
    "    video = []\n",
    "    classes = [0]*12\n",
    "    print(folder)\n",
    "    #720 × 576\n",
    "    for file in glob.glob(folder+\"/*.bmp\"):\n",
    "        img = mpimg.imread(file)\n",
    "        video.append(np.reshape(rgb2gray(img), (414720)))\n",
    "\n",
    "    if video:\n",
    "        X.append(video)\n",
    "        classes[d[folder.split(\"/\")[-1][:-1]]] = 1\n",
    "        y.append(classes)"
   ]
  },
  {
   "cell_type": "code",
   "execution_count": null,
   "metadata": {
    "collapsed": true
   },
   "outputs": [],
   "source": [
    "indices = range(len(X))\n",
    "#\n",
    "X_train, X_test, y_train, y_test, indices_train, indices_test = train_test_split(X, y, indices, test_size=0.75, random_state=37)\n",
    "#\n",
    "X_train = np.asarray(X_train)\n",
    "y_train = np.asarray(y_train)\n",
    "\n",
    "X_test = np.asarray(X_test)\n",
    "y_test = np.asarray(y_test)"
   ]
  },
  {
   "cell_type": "code",
   "execution_count": null,
   "metadata": {
    "collapsed": true
   },
   "outputs": [],
   "source": [
    "model = Sequential()\n",
    "model.add(SimpleRNN(32, input_shape=(100, 921600)))\n",
    "model.add(Dense(4))\n",
    "\n",
    "model.compile(loss='categorical_crossentropy', optimizer='adam', metrics=['accuracy'])\n",
    "model.fit(X_train, y_train, nb_epoch=10, batch_size=20, verbose=1)\n",
    "model.evaluate(X_test, y_test, batch_size=16)"
   ]
  },
  {
   "cell_type": "code",
   "execution_count": null,
   "metadata": {
    "collapsed": true
   },
   "outputs": [],
   "source": []
  }
 ],
 "metadata": {
  "anaconda-cloud": {},
  "kernelspec": {
   "display_name": "Python [default]",
   "language": "python",
   "name": "python3"
  },
  "language_info": {
   "codemirror_mode": {
    "name": "ipython",
    "version": 3
   },
   "file_extension": ".py",
   "mimetype": "text/x-python",
   "name": "python",
   "nbconvert_exporter": "python",
   "pygments_lexer": "ipython3",
   "version": "3.5.2"
  }
 },
 "nbformat": 4,
 "nbformat_minor": 1
}
