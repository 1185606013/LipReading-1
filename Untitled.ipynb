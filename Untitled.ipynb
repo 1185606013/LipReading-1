{
 "cells": [
  {
   "cell_type": "code",
   "execution_count": null,
   "metadata": {
    "collapsed": false
   },
   "outputs": [],
   "source": [
    "import glob, re\n",
    "import soundfile as sf\n",
    "from sklearn.model_selection import train_test_split\n",
    "from keras.models import Sequential, Model\n",
    "from keras.layers.recurrent import LSTM, SimpleRNN\n",
    "from keras.layers.core import Dense, Dropout, Masking\n",
    "from keras.layers import Convolution1D, MaxPooling1D, Flatten, Convolution2D, Input, MaxPooling2D, Activation, Reshape\n",
    "from keras.regularizers import l2, activity_l2\n",
    "from keras.regularizers import l1, activity_l1\n",
    "\n",
    "\n",
    "from keras.preprocessing import sequence\n",
    "import numpy as np\n",
    "from math import sqrt"
   ]
  },
  {
   "cell_type": "code",
   "execution_count": null,
   "metadata": {
    "collapsed": true
   },
   "outputs": [],
   "source": [
    "def pad(data, length):\n",
    "\n",
    "    if len(data) > length:\n",
    "        return data[:length]\n",
    "\n",
    "    aux = [0]*(length - len(data))\n",
    "    data = np.append(data, np.asarray(aux))\n",
    "    return data"
   ]
  },
  {
   "cell_type": "code",
   "execution_count": null,
   "metadata": {
    "collapsed": true
   },
   "outputs": [],
   "source": [
    "def load_data():\n",
    "    pattern = re.compile(\".*/([A-z]*).*\")\n",
    "    d = {\"Excuse\":0, \"Goodby\": 1, \"Hello\": 2, \"How\": 3, \"Nice\": 4, \"Seeyou\": 5, \"Sorry\": 6, \"Thank\": 7, \"Thanks\":8, \"Time\" : 9, \"Welcome\": 10}\n",
    "\n",
    "    X = []\n",
    "    y = []\n",
    "\n",
    "    audio_files = glob.glob(\"videos/*/*/*.wav\")\n",
    "    for i, audio in enumerate(audio_files):\n",
    "        print(\"{0:.2f}\".format(float(i)*100/len(audio_files)), end=\"\\r\")\n",
    "\n",
    "        phrase = pattern.match(audio).groups()[0]\n",
    "\n",
    "        if phrase != \"Left\" and phrase != \"Right\":\n",
    "            data, _ = sf.read(audio)\n",
    "\n",
    "            # [samplerate, data] = wavread(audio)\n",
    "            data = np.asarray(pad(data, 347200))\n",
    "            data = data.reshape(1, -1)\n",
    "            X.append(data)\n",
    "            cl = [0]*11\n",
    "            cl[d[phrase]] = 1\n",
    "            y.append(cl)\n",
    "\n",
    "            # noise = np.random.normal(0,1,9600)\n",
    "            #\n",
    "            # X.append(data*noise)\n",
    "            # y.append(cl)\n",
    "\n",
    "    return np.asarray(X), np.asarray(y)\n"
   ]
  },
  {
   "cell_type": "code",
   "execution_count": null,
   "metadata": {
    "collapsed": true
   },
   "outputs": [],
   "source": [
    "def train_and_evaluate(model, X_train, y_train, X_test, y_test):\n",
    "    model.fit(X_train, y_train, nb_epoch=10, batch_size=20, verbose=2)\n",
    "    results = model.evaluate(X_test, y_test, batch_size=20, verbose=1)\n",
    "    print(results)"
   ]
  },
  {
   "cell_type": "code",
   "execution_count": null,
   "metadata": {
    "collapsed": true
   },
   "outputs": [],
   "source": [
    "def create_model():\n",
    "    model = Sequential()\n",
    "\n",
    "    model.add(Masking(mask_value=0., input_shape=(1,347200)))\n",
    "    model.add(SimpleRNN(100, W_regularizer=l1(0.01), return_sequences=True))\n",
    "    model.add(SimpleRNN(100, go_backwards=True))\n",
    "    model.add(Dropout(0.2))\n",
    "    model.add(Dense(11, init='normal', activation='softmax'))\n",
    "\n",
    "    model.compile(loss='categorical_crossentropy', optimizer='adam', metrics=[\"categorical_accuracy\"])\n",
    "    return model\n"
   ]
  },
  {
   "cell_type": "code",
   "execution_count": null,
   "metadata": {
    "collapsed": false
   },
   "outputs": [],
   "source": [
    "if __name__ == '__main__':\n",
    "\n",
    "    n_folds = 9\n",
    "    from sklearn.model_selection import KFold\n",
    "\n",
    "    skf = KFold(n_splits=n_folds)\n",
    "\n",
    "    print(\"Loading data...\")\n",
    "    X, y = load_data()"
   ]
  },
  {
   "cell_type": "code",
   "execution_count": null,
   "metadata": {
    "collapsed": false
   },
   "outputs": [],
   "source": [
    "    print(\"Splitting data...\")\n",
    "    for i, (train, test) in enumerate(skf.split(X, y)):\n",
    "        print(\"Running Fold \"+str(1+i)+\"/\"+str(n_folds))\n",
    "        model = create_model()\n",
    "        model.summary()\n",
    "        train_and_evaluate(model, X[train], y[train], X[test], y[test])"
   ]
  },
  {
   "cell_type": "code",
   "execution_count": null,
   "metadata": {
    "collapsed": true
   },
   "outputs": [],
   "source": []
  }
 ],
 "metadata": {
  "anaconda-cloud": {},
  "kernelspec": {
   "display_name": "Python [conda root]",
   "language": "python",
   "name": "conda-root-py"
  },
  "language_info": {
   "codemirror_mode": {
    "name": "ipython",
    "version": 3
   },
   "file_extension": ".py",
   "mimetype": "text/x-python",
   "name": "python",
   "nbconvert_exporter": "python",
   "pygments_lexer": "ipython3",
   "version": "3.5.2"
  }
 },
 "nbformat": 4,
 "nbformat_minor": 1
}
